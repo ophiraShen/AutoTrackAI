{
 "cells": [
  {
   "cell_type": "markdown",
   "metadata": {},
   "source": []
  },
  {
   "cell_type": "code",
   "execution_count": null,
   "metadata": {},
   "outputs": [],
   "source": [
    "import requests\n",
    "from bs4 import BeautifulSoup\n",
    "\n",
    "def fetch_hackernews_top_stories():\n",
    "    url = 'https://hn.algolia.com/?q=langgraph'\n",
    "    response = requests.get(url)\n",
    "    response.raise_for_status()  # 检查请求是否成功\n",
    "\n",
    "    soup = BeautifulSoup(response.text, 'html.parser')\n",
    "    # 查找包含新闻的所有 <tr> 标签\n",
    "    stories = soup.find_all('tr', class_='athing')\n",
    "\n",
    "    top_stories = []\n",
    "    for story in stories:\n",
    "        title_tag = story.find('span', class_='titleline').find('a')\n",
    "        if title_tag:\n",
    "            title = title_tag.text\n",
    "            link = title_tag['href']\n",
    "            top_stories.append({'title': title, 'link': link})\n",
    "\n",
    "    return top_stories\n",
    "\n",
    "if __name__ == \"__main__\":\n",
    "    stories = fetch_hackernews_top_stories()\n",
    "    if stories:\n",
    "        for idx, story in enumerate(stories, start=1):\n",
    "            print(f\"{idx}. {story['title']}\")\n",
    "            print(f\"   Link: {story['link']}\")\n",
    "    else:\n",
    "        print(\"No stories found.\")\n"
   ]
  },
  {
   "cell_type": "code",
   "execution_count": 12,
   "metadata": {},
   "outputs": [],
   "source": [
    "import requests\n",
    "from bs4 import BeautifulSoup\n",
    "\n",
    "url = \"https://hn.algolia.com/?q=langgraph\"\n",
    "response = requests.get(url)\n",
    "response.raise_for_status()\n",
    "soup = BeautifulSoup(response.text, 'html.parser')"
   ]
  },
  {
   "cell_type": "code",
   "execution_count": 13,
   "metadata": {},
   "outputs": [],
   "source": [
    "articles = soup.find_all('article', class_='Story')"
   ]
  },
  {
   "cell_type": "code",
   "execution_count": 15,
   "metadata": {},
   "outputs": [],
   "source": [
    "def fn(n):\n",
    "    return n % 7"
   ]
  },
  {
   "cell_type": "code",
   "execution_count": 20,
   "metadata": {},
   "outputs": [
    {
     "data": {
      "text/plain": [
       "(3, 6, 5, 4, 0, 5, 6)"
      ]
     },
     "execution_count": 20,
     "metadata": {},
     "output_type": "execute_result"
    }
   ],
   "source": [
    "fn(17), fn(27), fn(19), fn(11), fn(91), fn(61), fn(41)"
   ]
  },
  {
   "cell_type": "markdown",
   "metadata": {},
   "source": [
    "https://news.ycombinator.com/item?id=41203307\n",
    "https://news.ycombinator.com/item?id=41181057\n",
    "https://news.ycombinator.com/item?id=41722243"
   ]
  }
 ],
 "metadata": {
  "kernelspec": {
   "display_name": "openaiquickstart",
   "language": "python",
   "name": "python3"
  },
  "language_info": {
   "codemirror_mode": {
    "name": "ipython",
    "version": 3
   },
   "file_extension": ".py",
   "mimetype": "text/x-python",
   "name": "python",
   "nbconvert_exporter": "python",
   "pygments_lexer": "ipython3",
   "version": "3.10.14"
  }
 },
 "nbformat": 4,
 "nbformat_minor": 2
}
